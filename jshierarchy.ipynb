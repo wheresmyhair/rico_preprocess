{
 "cells": [
  {
   "attachments": {},
   "cell_type": "markdown",
   "metadata": {},
   "source": [
    "# Import"
   ]
  },
  {
   "cell_type": "code",
   "execution_count": 2,
   "metadata": {},
   "outputs": [],
   "source": [
    "import json\n",
    "\n",
    "path_file = './data/json/0.json'\n",
    "\n",
    "with open(path_file, 'r') as f:\n",
    "    data = json.load(f)"
   ]
  },
  {
   "attachments": {},
   "cell_type": "markdown",
   "metadata": {},
   "source": [
    "# Root"
   ]
  },
  {
   "cell_type": "code",
   "execution_count": 3,
   "metadata": {},
   "outputs": [
    {
     "name": "stdout",
     "output_type": "stream",
     "text": [
      "dict_keys(['scrollable-horizontal', 'draw', 'ancestors', 'clickable', 'pressed', 'focusable', 'long-clickable', 'enabled', 'bounds', 'visibility', 'content-desc', 'rel-bounds', 'focused', 'selected', 'scrollable-vertical', 'children', 'adapter-view', 'abs-pos', 'pointer', 'class', 'visible-to-user'])\n"
     ]
    }
   ],
   "source": [
    "print(data['activity']['root'].keys())"
   ]
  },
  {
   "attachments": {},
   "cell_type": "markdown",
   "metadata": {},
   "source": [
    "# Childrens"
   ]
  },
  {
   "cell_type": "code",
   "execution_count": 7,
   "metadata": {},
   "outputs": [
    {
     "name": "stdout",
     "output_type": "stream",
     "text": [
      "dict_keys(['scrollable-horizontal', 'draw', 'ancestors', 'clickable', 'pressed', 'focusable', 'long-clickable', 'enabled', 'bounds', 'visibility', 'content-desc', 'rel-bounds', 'focused', 'selected', 'scrollable-vertical', 'children', 'adapter-view', 'abs-pos', 'pointer', 'class', 'visible-to-user'])\n",
      "dict_keys(['resource-id', 'adapter-view', 'pointer', 'scrollable-horizontal', 'ancestors', 'selected', 'content-desc', 'rel-bounds', 'draw', 'focusable', 'long-clickable', 'visibility', 'focused', 'clickable', 'abs-pos', 'class', 'visible-to-user', 'package', 'enabled', 'bounds', 'pressed', 'scrollable-vertical'])\n"
     ]
    }
   ],
   "source": [
    "print(data['activity']['root']['children'][0].keys())\n",
    "print(data['activity']['root']['children'][1].keys())"
   ]
  },
  {
   "cell_type": "code",
   "execution_count": 8,
   "metadata": {},
   "outputs": [
    {
     "name": "stdout",
     "output_type": "stream",
     "text": [
      "dict_keys(['resource-id', 'adapter-view', 'pointer', 'scrollable-horizontal', 'ancestors', 'selected', 'content-desc', 'rel-bounds', 'draw', 'focusable', 'long-clickable', 'visibility', 'focused', 'clickable', 'abs-pos', 'class', 'visible-to-user', 'package', 'enabled', 'bounds', 'pressed', 'scrollable-vertical'])\n",
      "dict_keys(['resource-id', 'adapter-view', 'pointer', 'children', 'scrollable-horizontal', 'ancestors', 'selected', 'content-desc', 'rel-bounds', 'draw', 'focusable', 'long-clickable', 'visibility', 'focused', 'clickable', 'abs-pos', 'class', 'visible-to-user', 'package', 'enabled', 'bounds', 'pressed', 'scrollable-vertical'])\n"
     ]
    }
   ],
   "source": [
    "print(data['activity']['root']['children'][0]['children'][0].keys())\n",
    "print(data['activity']['root']['children'][0]['children'][1].keys())"
   ]
  },
  {
   "cell_type": "code",
   "execution_count": null,
   "metadata": {},
   "outputs": [],
   "source": [
    "data['activity']['root']['children'][0]['children'][0].keys()"
   ]
  }
 ],
 "metadata": {
  "kernelspec": {
   "display_name": "Python 3",
   "language": "python",
   "name": "python3"
  },
  "language_info": {
   "codemirror_mode": {
    "name": "ipython",
    "version": 3
   },
   "file_extension": ".py",
   "mimetype": "text/x-python",
   "name": "python",
   "nbconvert_exporter": "python",
   "pygments_lexer": "ipython3",
   "version": "3.10.4"
  },
  "orig_nbformat": 4
 },
 "nbformat": 4,
 "nbformat_minor": 2
}
